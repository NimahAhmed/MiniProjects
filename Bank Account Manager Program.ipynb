{
 "cells": [
  {
   "cell_type": "code",
   "execution_count": null,
   "id": "b0979746",
   "metadata": {},
   "outputs": [
    {
     "ename": "",
     "evalue": "",
     "output_type": "error",
     "traceback": [
      "\u001b[1;31mRunning cells with 'Python 3.8.2 64-bit' requires ipykernel package.\n",
      "\u001b[1;31mRun the following command to install 'ipykernel' into the Python environment. \n",
      "\u001b[1;31mCommand: '/usr/bin/python3 -m pip install ipykernel -U --user --force-reinstall'"
     ]
    }
   ],
   "source": [
    "# Bank Account Manager \n",
    "# This project creates a class called Account which will be an abstract class for three \n",
    "# other classes called CheckingAccount, SavingsAccount and BusinessAccount, and manages credits and \n",
    "# debits from these accounts through an ATM style program."
   ]
  },
  {
   "cell_type": "code",
   "execution_count": 16,
   "id": "820abdbb",
   "metadata": {},
   "outputs": [],
   "source": [
    "class Account:\n",
    "    #will derive types of account from this parent Class\n",
    "    def __init__(self,balance):\n",
    "        self.balance = balance\n",
    "        \n",
    "    def deposit(self,dep_amt):\n",
    "        #adds deposit to current balance\n",
    "        self.balance += dep_amt\n",
    "        print (\"Deposit succesful. Your new balance is : \")\n",
    "        return self.balance\n",
    "    \n",
    "    def withdraw(self,wd_amt):\n",
    "        #subtracts withdrawal from current balance\n",
    "        if wd_amt <= self.balance:\n",
    "            self.balance -= wd_amt\n",
    "            print (\"Withdrawal succesful. Your new balance is : \")\n",
    "            return self.balance\n",
    "        else:\n",
    "            print (\"Funds Not Available\")\n",
    "    \n",
    "    def __str__(self):\n",
    "        return f'Account balance: {self.balance}'\n",
    "    \n",
    "#Subclasses/types of accounts:\n",
    "class CheckingAccount(Account):\n",
    "    def __init__(self,balance):\n",
    "        Account.__init__(self,balance)\n",
    "    "
   ]
  },
  {
   "cell_type": "code",
   "execution_count": 17,
   "id": "5e5d0a03",
   "metadata": {},
   "outputs": [],
   "source": [
    "myaccount= CheckingAccount(50000)"
   ]
  },
  {
   "cell_type": "code",
   "execution_count": 18,
   "id": "b1ec9308",
   "metadata": {},
   "outputs": [
    {
     "name": "stdout",
     "output_type": "stream",
     "text": [
      "Account balance: 50000\n"
     ]
    }
   ],
   "source": [
    "print(myaccount)"
   ]
  },
  {
   "cell_type": "code",
   "execution_count": 19,
   "id": "65a5e0c4",
   "metadata": {},
   "outputs": [
    {
     "data": {
      "text/plain": [
       "50000"
      ]
     },
     "execution_count": 19,
     "metadata": {},
     "output_type": "execute_result"
    }
   ],
   "source": [
    "myaccount.balance"
   ]
  },
  {
   "cell_type": "code",
   "execution_count": 20,
   "id": "ca0a77bc",
   "metadata": {},
   "outputs": [
    {
     "name": "stdout",
     "output_type": "stream",
     "text": [
      "Deposit succesful. Your new balance is : \n"
     ]
    },
    {
     "data": {
      "text/plain": [
       "51000"
      ]
     },
     "execution_count": 20,
     "metadata": {},
     "output_type": "execute_result"
    }
   ],
   "source": [
    "myaccount.deposit(1000)"
   ]
  },
  {
   "cell_type": "code",
   "execution_count": null,
   "id": "82422010",
   "metadata": {},
   "outputs": [],
   "source": []
  }
 ],
 "metadata": {
  "kernelspec": {
   "display_name": "Python 3.8.2 64-bit",
   "language": "python",
   "name": "python3"
  },
  "language_info": {
   "codemirror_mode": {
    "name": "ipython",
    "version": 3
   },
   "file_extension": ".py",
   "mimetype": "text/x-python",
   "name": "python",
   "nbconvert_exporter": "python",
   "pygments_lexer": "ipython3",
   "version": "3.8.2"
  },
  "vscode": {
   "interpreter": {
    "hash": "31f2aee4e71d21fbe5cf8b01ff0e069b9275f58929596ceb00d14d90e3e16cd6"
   }
  }
 },
 "nbformat": 4,
 "nbformat_minor": 5
}
