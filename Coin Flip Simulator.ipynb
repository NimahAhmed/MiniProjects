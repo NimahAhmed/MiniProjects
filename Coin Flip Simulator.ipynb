{
 "cells": [
  {
   "cell_type": "code",
   "execution_count": null,
   "id": "2a0a9d92",
   "metadata": {},
   "outputs": [],
   "source": [
    "# Coin Flip Simulation - Write some code that simulates flipping a single coin however many times \n",
    "# the user decides. The code should record the outcomes and count the number of tails and heads."
   ]
  },
  {
   "cell_type": "code",
   "execution_count": 15,
   "id": "683f4c2e",
   "metadata": {},
   "outputs": [],
   "source": [
    "import random\n",
    "\n",
    "def flip_coin(count_heads, count_tails):\n",
    "    options = [\"heads\", \"tails\"]\n",
    "    result = random.choice(options)\n",
    "    print(result) \n",
    "    if result == \"heads\":\n",
    "        count_heads +=1\n",
    "    else:\n",
    "        count_tails +=1\n",
    "    print(f'Total heads flipped: {count_heads} \\nTotal tails flipped: {count_tails}')\n",
    "    #return new count values back to main function\n",
    "    return count_heads, count_tails\n",
    "\n",
    "def flip_coin_game():\n",
    "    flipping = True\n",
    "    count_heads=0\n",
    "    count_tails=0\n",
    "    while flipping == True:\n",
    "        ans = input('Would you like to flip the coin? Y or N ')\n",
    "        if ans == 'Y':\n",
    "            count_heads, count_tails = flip_coin(count_heads, count_tails)\n",
    "            continue\n",
    "        else:\n",
    "            flipping = False\n",
    "            print (\"End Game\")\n",
    "            break"
   ]
  },
  {
   "cell_type": "code",
   "execution_count": null,
   "id": "355008a7",
   "metadata": {},
   "outputs": [
    {
     "name": "stdout",
     "output_type": "stream",
     "text": [
      "Would you like to flip the coin? Y or N Y\n",
      "heads\n",
      "Total heads flipped: 1 \n",
      "Total tails flipped: 0\n",
      "Would you like to flip the coin? Y or N Y\n",
      "heads\n",
      "Total heads flipped: 2 \n",
      "Total tails flipped: 0\n",
      "Would you like to flip the coin? Y or N Y\n",
      "heads\n",
      "Total heads flipped: 3 \n",
      "Total tails flipped: 0\n",
      "Would you like to flip the coin? Y or N Y\n",
      "tails\n",
      "Total heads flipped: 3 \n",
      "Total tails flipped: 1\n",
      "Would you like to flip the coin? Y or N Y\n",
      "heads\n",
      "Total heads flipped: 4 \n",
      "Total tails flipped: 1\n",
      "Would you like to flip the coin? Y or N Y\n",
      "heads\n",
      "Total heads flipped: 5 \n",
      "Total tails flipped: 1\n"
     ]
    }
   ],
   "source": [
    "flip_coin_game()"
   ]
  },
  {
   "cell_type": "code",
   "execution_count": null,
   "id": "016c8f15",
   "metadata": {},
   "outputs": [],
   "source": []
  },
  {
   "cell_type": "code",
   "execution_count": null,
   "id": "989dbc6d",
   "metadata": {},
   "outputs": [],
   "source": []
  },
  {
   "cell_type": "code",
   "execution_count": null,
   "id": "7cc0a51f",
   "metadata": {},
   "outputs": [],
   "source": []
  },
  {
   "cell_type": "code",
   "execution_count": 10,
   "id": "667ef2e5",
   "metadata": {},
   "outputs": [],
   "source": [
    "import random\n",
    "\n",
    "def flip_coin(count_heads, count_tails):\n",
    "    options = [\"heads\", \"tails\"]\n",
    "    result = random.choice(options)\n",
    "    print(result) \n",
    "    if result == \"heads\":\n",
    "        count_heads +=1\n",
    "    else:\n",
    "        count_tails +=1\n",
    "    print(f'Total heads flipped: {count_heads} \\nTotal tails flipped: {count_tails}')\n",
    "    # Return new counts back to main function\n",
    "    return count_heads, count_tails\n",
    "\n",
    "def flip_coin_game():\n",
    "    flipping = True\n",
    "    # initialize counts to 0\n",
    "    count_heads=0\n",
    "    count_tails=0\n",
    "    \n",
    "    while flipping == True:\n",
    "        ans = input('Would you like to flip the coin? Y or N ')\n",
    "        if ans == 'Y':\n",
    "            # call flip_coin and update counts\n",
    "            count_heads, count_tails = flip_coin(count_heads, count_tails)\n",
    "        else:\n",
    "            flipping = False\n",
    "    print(\"End Game\")\n"
   ]
  },
  {
   "cell_type": "code",
   "execution_count": 13,
   "id": "db0a0ba0",
   "metadata": {},
   "outputs": [
    {
     "name": "stdout",
     "output_type": "stream",
     "text": [
      "Would you like to flip the coin? Y or N Y\n",
      "tails\n",
      "Total heads flipped: 0 \n",
      "Total tails flipped: 1\n",
      "Would you like to flip the coin? Y or N Y\n",
      "tails\n",
      "Total heads flipped: 0 \n",
      "Total tails flipped: 2\n",
      "Would you like to flip the coin? Y or N Y\n",
      "heads\n",
      "Total heads flipped: 1 \n",
      "Total tails flipped: 2\n",
      "Would you like to flip the coin? Y or N Y\n",
      "tails\n",
      "Total heads flipped: 1 \n",
      "Total tails flipped: 3\n",
      "Would you like to flip the coin? Y or N N\n",
      "End Game\n"
     ]
    }
   ],
   "source": [
    "flip_coin_game()"
   ]
  },
  {
   "cell_type": "code",
   "execution_count": null,
   "id": "4c80f104",
   "metadata": {},
   "outputs": [],
   "source": []
  }
 ],
 "metadata": {
  "kernelspec": {
   "display_name": "Python 3 (ipykernel)",
   "language": "python",
   "name": "python3"
  },
  "language_info": {
   "codemirror_mode": {
    "name": "ipython",
    "version": 3
   },
   "file_extension": ".py",
   "mimetype": "text/x-python",
   "name": "python",
   "nbconvert_exporter": "python",
   "pygments_lexer": "ipython3",
   "version": "3.9.12"
  }
 },
 "nbformat": 4,
 "nbformat_minor": 5
}
