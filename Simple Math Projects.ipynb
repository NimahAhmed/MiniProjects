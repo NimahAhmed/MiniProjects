{
 "cells": [
  {
   "cell_type": "code",
   "execution_count": 1,
   "id": "e2b17c82",
   "metadata": {},
   "outputs": [],
   "source": [
    "# This function computes the volume of a sphere given its radius.\n",
    "# The volume of a sphere is given as\n",
    "# 4/3π𝑟3"
   ]
  },
  {
   "cell_type": "code",
   "execution_count": 2,
   "id": "a17567b6",
   "metadata": {},
   "outputs": [],
   "source": [
    "def vol_sphere(radius):\n",
    "    pi = 3.14\n",
    "    return 4/3*pi*radius**3"
   ]
  },
  {
   "cell_type": "code",
   "execution_count": 3,
   "id": "1ad71584",
   "metadata": {},
   "outputs": [
    {
     "data": {
      "text/plain": [
       "33.49333333333333"
      ]
     },
     "execution_count": 3,
     "metadata": {},
     "output_type": "execute_result"
    }
   ],
   "source": [
    "vol_sphere(2)"
   ]
  },
  {
   "cell_type": "code",
   "execution_count": null,
   "id": "539a6068",
   "metadata": {},
   "outputs": [],
   "source": [
    "#COUNT PRIMES: This function returns the number of prime numbers that exist up to \n",
    "#and including a given number"
   ]
  },
  {
   "cell_type": "code",
   "execution_count": 18,
   "id": "8a185058",
   "metadata": {},
   "outputs": [],
   "source": [
    "def count_primes(number):\n",
    "    primes = [2]\n",
    "    x = 3\n",
    "    if number < 2:\n",
    "        return 0\n",
    "    while x <= number:\n",
    "        for i in range(3,x,2):\n",
    "            if x%i == 0:\n",
    "                x += 2\n",
    "                break\n",
    "        else:\n",
    "            primes.append(x)\n",
    "            x += 2\n",
    "    print(primes)\n",
    "    return len(primes)"
   ]
  },
  {
   "cell_type": "code",
   "execution_count": 21,
   "id": "69f970f1",
   "metadata": {},
   "outputs": [
    {
     "name": "stdout",
     "output_type": "stream",
     "text": [
      "[2, 3, 5, 7, 11, 13, 17, 19, 23, 29, 31, 37, 41, 43, 47, 53, 59, 61, 67, 71, 73, 79, 83, 89, 97]\n"
     ]
    },
    {
     "data": {
      "text/plain": [
       "25"
      ]
     },
     "execution_count": 21,
     "metadata": {},
     "output_type": "execute_result"
    }
   ],
   "source": [
    "count_primes(100)"
   ]
  },
  {
   "cell_type": "code",
   "execution_count": 4,
   "id": "3faa285c",
   "metadata": {},
   "outputs": [],
   "source": [
    "# Find Cost of Tile to Cover W x H Floor - This program calculates the total cost \n",
    "# of tile it would take to cover a floor plan of width and height, \n",
    "# using a cost entered by the user."
   ]
  },
  {
   "cell_type": "code",
   "execution_count": 56,
   "id": "bdca800f",
   "metadata": {},
   "outputs": [],
   "source": [
    "def cost_to_tile_floor(w,h):\n",
    "    price_tile = input('Enter the price of one 1 ft by 1 ft tile in USD: ')\n",
    "    cost_floor = int(price_tile) * w * h\n",
    "    return 'The cost of tiling the floor is ' + str(cost_floor)+ ' dollars'"
   ]
  },
  {
   "cell_type": "code",
   "execution_count": 59,
   "id": "c4b7cea8",
   "metadata": {},
   "outputs": [
    {
     "name": "stdout",
     "output_type": "stream",
     "text": [
      "Enter the price of one 1 ft by 1 ft tile in USD: 6\n"
     ]
    },
    {
     "data": {
      "text/plain": [
       "'The cost of tiling the floor is 1800 dollars'"
      ]
     },
     "execution_count": 59,
     "metadata": {},
     "output_type": "execute_result"
    }
   ],
   "source": [
    "cost_to_tile_floor(15,20)"
   ]
  },
  {
   "cell_type": "code",
   "execution_count": 60,
   "id": "164c6e30",
   "metadata": {},
   "outputs": [],
   "source": []
  },
  {
   "cell_type": "code",
   "execution_count": null,
   "id": "5b6c8cc8",
   "metadata": {},
   "outputs": [],
   "source": [
    "# Change Return Program - The user enters a cost and then the amount of money given. The \n",
    "# program will figure out the change and the number of quarters, dimes, nickels, pennies needed\n",
    "# for the change."
   ]
  },
  {
   "cell_type": "code",
   "execution_count": 186,
   "id": "eef3f69a",
   "metadata": {},
   "outputs": [],
   "source": [
    "def calc_change(cost,amt_given):\n",
    "    import math\n",
    "    change = (amt_given)-(cost)\n",
    "    print ('The change owed is $'+ str(round(change,2)))  \n",
    "    quarters = (change//.25)\n",
    "    dimes = (round(change-(quarters*.25),2)*100)//10        \n",
    "    nickels = (round(change-(quarters*.25)-(dimes*.1),2)*100)//5     \n",
    "    pennies = (round(change-(quarters*.25)-(dimes*.1)-(nickels*0.05),2)*100)//1      \n",
    "    print('Number of quarters: '+ str(quarters)+ '\\n' +'Number of dimes: '+str(dimes)+ '\\n' +'Number of nickels: '+str(nickels)+ '\\n' +'Number of pennies: '+str(pennies))\n",
    "    "
   ]
  },
  {
   "cell_type": "code",
   "execution_count": 192,
   "id": "5f817de4",
   "metadata": {},
   "outputs": [
    {
     "name": "stdout",
     "output_type": "stream",
     "text": [
      "The change owed is $1.3\n",
      "Number of quarters: 5.0\n",
      "Number of dimes: 0.0\n",
      "Number of nickels: 1.0\n",
      "Number of pennies: 0.0\n"
     ]
    }
   ],
   "source": [
    "calc_change(18.70,20)"
   ]
  },
  {
   "cell_type": "code",
   "execution_count": null,
   "id": "40a95da6",
   "metadata": {},
   "outputs": [],
   "source": []
  },
  {
   "cell_type": "code",
   "execution_count": null,
   "id": "d0e08930",
   "metadata": {},
   "outputs": [],
   "source": []
  },
  {
   "cell_type": "code",
   "execution_count": null,
   "id": "6ee4826b",
   "metadata": {},
   "outputs": [],
   "source": []
  }
 ],
 "metadata": {
  "kernelspec": {
   "display_name": "Python 3 (ipykernel)",
   "language": "python",
   "name": "python3"
  },
  "language_info": {
   "codemirror_mode": {
    "name": "ipython",
    "version": 3
   },
   "file_extension": ".py",
   "mimetype": "text/x-python",
   "name": "python",
   "nbconvert_exporter": "python",
   "pygments_lexer": "ipython3",
   "version": "3.9.12"
  }
 },
 "nbformat": 4,
 "nbformat_minor": 5
}
