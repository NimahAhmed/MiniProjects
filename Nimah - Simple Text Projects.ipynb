{
 "cells": [
  {
   "cell_type": "code",
   "execution_count": null,
   "id": "74b463e6",
   "metadata": {},
   "outputs": [],
   "source": [
    "#Fizz Buzz - Write a program that prints the numbers from 1 to 100. But for multiples of three \n",
    "#print “Fizz” instead of the number and for the multiples of five print “Buzz”. \n",
    "#For numbers which are multiples of both three and five print “FizzBuzz”"
   ]
  },
  {
   "cell_type": "code",
   "execution_count": null,
   "id": "e30c8c52",
   "metadata": {},
   "outputs": [],
   "source": [
    "for num in range(1,101):\n",
    "    if num%3==0 and num%5==0:\n",
    "        print(\"FizzBuzz\")\n",
    "    elif num%3 ==0:\n",
    "        print(\"Fizz\")\n",
    "    elif num%5 ==0:\n",
    "        print(\"Buzz\")\n",
    "    else:\n",
    "        print (num)"
   ]
  },
  {
   "cell_type": "code",
   "execution_count": null,
   "id": "14031bbc",
   "metadata": {},
   "outputs": [],
   "source": [
    "#Reverse a String - Enter a string and the program will reverse it and print it out."
   ]
  },
  {
   "cell_type": "code",
   "execution_count": 1,
   "id": "57f95faa",
   "metadata": {},
   "outputs": [],
   "source": [
    "def reverse_string(string):\n",
    "    reverse_string=''\n",
    "    ind = len(string)-1\n",
    "    for i in string:\n",
    "        reverse_string += string[ind]\n",
    "        ind-=1\n",
    "    return reverse_string"
   ]
  },
  {
   "cell_type": "code",
   "execution_count": 2,
   "id": "6b203273",
   "metadata": {},
   "outputs": [
    {
     "data": {
      "text/plain": [
       "'tcejorp'"
      ]
     },
     "execution_count": 2,
     "metadata": {},
     "output_type": "execute_result"
    }
   ],
   "source": [
    "reverse_string('project')"
   ]
  },
  {
   "cell_type": "code",
   "execution_count": 3,
   "id": "31a92a21",
   "metadata": {},
   "outputs": [],
   "source": [
    "#Pig Latin - Pig Latin is a game of alterations played on the English language. \n",
    "#To create the Pig Latin form of an English word the initial consonant sound is transposed \n",
    "#to the end of the word and an ay is affixed (Ex.: \"banana\" would yield anana-bay). "
   ]
  },
  {
   "cell_type": "code",
   "execution_count": 4,
   "id": "3eedceab",
   "metadata": {},
   "outputs": [],
   "source": [
    "def pig_latin(string):\n",
    "    words = []\n",
    "    vowels = 'aeiou'\n",
    "    for word in string.split():\n",
    "        if len(word)>2 and word[0] not in vowels:\n",
    "            words.append(word[1:]+'-'+word[0]+'ay')\n",
    "        else:\n",
    "            words.append(word+'ay')\n",
    "    return ' '.join(words)"
   ]
  },
  {
   "cell_type": "code",
   "execution_count": 5,
   "id": "171e90d6",
   "metadata": {},
   "outputs": [
    {
     "data": {
      "text/plain": [
       "'anana-bay appleay'"
      ]
     },
     "execution_count": 5,
     "metadata": {},
     "output_type": "execute_result"
    }
   ],
   "source": [
    "pig_latin('banana apple')"
   ]
  },
  {
   "cell_type": "code",
   "execution_count": 14,
   "id": "40e90d52",
   "metadata": {},
   "outputs": [],
   "source": [
    "# Count Vowels - Enter a string and the program counts the number of vowels in the text. \n",
    "# For added complexity have it report a sum of each vowel found."
   ]
  },
  {
   "cell_type": "code",
   "execution_count": 1,
   "id": "1703ec64",
   "metadata": {},
   "outputs": [],
   "source": [
    "def count_vowels(string):\n",
    "    vowels='aeiou'\n",
    "    count = 0\n",
    "    for letter in string:\n",
    "        if letter.lower() in vowels:\n",
    "            count += 1\n",
    "        else:\n",
    "            continue\n",
    "    return count"
   ]
  },
  {
   "cell_type": "code",
   "execution_count": 12,
   "id": "af57073f",
   "metadata": {},
   "outputs": [
    {
     "data": {
      "text/plain": [
       "3"
      ]
     },
     "execution_count": 12,
     "metadata": {},
     "output_type": "execute_result"
    }
   ],
   "source": [
    "count_vowels('Ocean')"
   ]
  },
  {
   "cell_type": "code",
   "execution_count": 13,
   "id": "4a1b270f",
   "metadata": {},
   "outputs": [],
   "source": [
    "# Check if Palindrome - Checks if the string entered by the user is a palindrome. That is that \n",
    "# it reads the same forwards as backwards like “racecar”"
   ]
  },
  {
   "cell_type": "code",
   "execution_count": 19,
   "id": "a2ef71fd",
   "metadata": {},
   "outputs": [],
   "source": [
    "def palindrome(string):\n",
    "    string = string.replace(' ','')\n",
    "    if string == string [::-1]:\n",
    "        print ('True')\n",
    "    else:\n",
    "        print ('False')"
   ]
  },
  {
   "cell_type": "code",
   "execution_count": 29,
   "id": "d170585c",
   "metadata": {},
   "outputs": [
    {
     "name": "stdout",
     "output_type": "stream",
     "text": [
      "True\n"
     ]
    }
   ],
   "source": [
    "palindrome('nurses run')"
   ]
  },
  {
   "cell_type": "code",
   "execution_count": 30,
   "id": "010c189e",
   "metadata": {},
   "outputs": [],
   "source": [
    "# Count Words in a String - Counts the number of individual words in a string. "
   ]
  },
  {
   "cell_type": "code",
   "execution_count": 38,
   "id": "887e744a",
   "metadata": {},
   "outputs": [],
   "source": [
    "def count_words(string):\n",
    "   return len(string.split())"
   ]
  },
  {
   "cell_type": "code",
   "execution_count": 39,
   "id": "6018bf50",
   "metadata": {},
   "outputs": [
    {
     "data": {
      "text/plain": [
       "3"
      ]
     },
     "execution_count": 39,
     "metadata": {},
     "output_type": "execute_result"
    }
   ],
   "source": [
    "count_words('I miss you')"
   ]
  },
  {
   "cell_type": "code",
   "execution_count": null,
   "id": "b9f8acc3",
   "metadata": {},
   "outputs": [],
   "source": []
  }
 ],
 "metadata": {
  "kernelspec": {
   "display_name": "Python 3 (ipykernel)",
   "language": "python",
   "name": "python3"
  },
  "language_info": {
   "codemirror_mode": {
    "name": "ipython",
    "version": 3
   },
   "file_extension": ".py",
   "mimetype": "text/x-python",
   "name": "python",
   "nbconvert_exporter": "python",
   "pygments_lexer": "ipython3",
   "version": "3.9.12"
  }
 },
 "nbformat": 4,
 "nbformat_minor": 5
}
