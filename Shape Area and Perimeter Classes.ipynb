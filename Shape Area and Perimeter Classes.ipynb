{
 "cells": [
  {
   "cell_type": "code",
   "execution_count": 1,
   "id": "3be85c72",
   "metadata": {},
   "outputs": [],
   "source": [
    "# Shape Area and Perimeter Classes - This program creates an abstract class called Shape and then inherits \n",
    "# from it other shapes like diamond, rectangle, circle, triangle etc. Each class \n",
    "# overrides the area and perimeter functionality to handle each shape type."
   ]
  },
  {
   "cell_type": "code",
   "execution_count": 81,
   "id": "12d04d0f",
   "metadata": {},
   "outputs": [],
   "source": [
    "class Shape():\n",
    "    def __init__(self):\n",
    "        print(\"I am a shape\")\n",
    "        \n",
    "    def get_area(self):\n",
    "        return self.length*self.width\n",
    "    \n",
    "    def get_perimeter(self):\n",
    "        return 2*self.length + 2*self.width"
   ]
  },
  {
   "cell_type": "code",
   "execution_count": 82,
   "id": "2f8ac60a",
   "metadata": {},
   "outputs": [],
   "source": [
    "class Square(Shape):\n",
    "    def __init__(self,length,width):\n",
    "        Shape.__init__(self)\n",
    "        self.length = length\n",
    "        self.width = width\n",
    "    \n",
    "    def get_area(self):\n",
    "        return self.length*self.width\n",
    "    \n",
    "    def get_perimeter(self):\n",
    "        return 2*self.length + 2*self.width"
   ]
  },
  {
   "cell_type": "code",
   "execution_count": 83,
   "id": "e6a60998",
   "metadata": {},
   "outputs": [],
   "source": [
    "class Circle(Shape):\n",
    "    pi = 3.14\n",
    "    def __init__(self,radius):\n",
    "        Shape.__init__(self)\n",
    "        self.radius = radius\n",
    "    \n",
    "    def get_area(self):\n",
    "        return Circle.pi*self.radius**2\n",
    "    \n",
    "    def get_circumference(self):\n",
    "        return 2*Circle.pi*self.radius"
   ]
  },
  {
   "cell_type": "code",
   "execution_count": 86,
   "id": "0b2015b3",
   "metadata": {},
   "outputs": [
    {
     "name": "stdout",
     "output_type": "stream",
     "text": [
      "I am a shape\n"
     ]
    }
   ],
   "source": [
    "mycircle=Circle(3)"
   ]
  },
  {
   "cell_type": "code",
   "execution_count": 87,
   "id": "f1b1bf68",
   "metadata": {},
   "outputs": [
    {
     "data": {
      "text/plain": [
       "28.26"
      ]
     },
     "execution_count": 87,
     "metadata": {},
     "output_type": "execute_result"
    }
   ],
   "source": [
    "mycircle.get_area()"
   ]
  },
  {
   "cell_type": "code",
   "execution_count": 94,
   "id": "4967799d",
   "metadata": {},
   "outputs": [],
   "source": [
    "class Triangle(Shape):\n",
    "    def __init__(self,side1,side2,side3):\n",
    "        Shape.__init__(self)\n",
    "        self.side1 = side1\n",
    "        self.side2 = side2\n",
    "        self.side3 = side3\n",
    "    \n",
    "    def get_area(self):\n",
    "        return (self.base*self.height)/2\n",
    "    \n",
    "    def get_perimeter(self):\n",
    "        return self.base+self.side1+self.side2"
   ]
  },
  {
   "cell_type": "code",
   "execution_count": 90,
   "id": "5bf4c590",
   "metadata": {},
   "outputs": [
    {
     "name": "stdout",
     "output_type": "stream",
     "text": [
      "I am a shape\n"
     ]
    }
   ],
   "source": [
    "mytriangle=Triangle(3,12/5,4,5)"
   ]
  },
  {
   "cell_type": "code",
   "execution_count": 92,
   "id": "97c94c26",
   "metadata": {},
   "outputs": [
    {
     "data": {
      "text/plain": [
       "3.5999999999999996"
      ]
     },
     "execution_count": 92,
     "metadata": {},
     "output_type": "execute_result"
    }
   ],
   "source": [
    "mytriangle.get_area()"
   ]
  },
  {
   "cell_type": "code",
   "execution_count": 93,
   "id": "35a57466",
   "metadata": {},
   "outputs": [
    {
     "data": {
      "text/plain": [
       "12"
      ]
     },
     "execution_count": 93,
     "metadata": {},
     "output_type": "execute_result"
    }
   ],
   "source": [
    "mytriangle.get_perimeter()"
   ]
  },
  {
   "cell_type": "code",
   "execution_count": null,
   "id": "c8170a18",
   "metadata": {},
   "outputs": [],
   "source": []
  }
 ],
 "metadata": {
  "kernelspec": {
   "display_name": "Python 3 (ipykernel)",
   "language": "python",
   "name": "python3"
  },
  "language_info": {
   "codemirror_mode": {
    "name": "ipython",
    "version": 3
   },
   "file_extension": ".py",
   "mimetype": "text/x-python",
   "name": "python",
   "nbconvert_exporter": "python",
   "pygments_lexer": "ipython3",
   "version": "3.9.12"
  }
 },
 "nbformat": 4,
 "nbformat_minor": 5
}
